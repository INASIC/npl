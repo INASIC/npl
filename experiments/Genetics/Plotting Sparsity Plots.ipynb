{
 "cells": [
  {
   "cell_type": "markdown",
   "metadata": {},
   "source": [
    "# Plotting Sparsity Plots"
   ]
  },
  {
   "cell_type": "code",
   "execution_count": null,
   "metadata": {},
   "outputs": [],
   "source": [
    "import numpy as np\n",
    "import scipy as sp\n",
    "import pickle\n",
    "import matplotlib.pyplot as plt\n",
    "import seaborn as sns\n",
    "import pandas as pd\n",
    "import copy\n",
    "sns.set_style(\"white\")"
   ]
  },
  {
   "cell_type": "code",
   "execution_count": null,
   "metadata": {},
   "outputs": [],
   "source": [
    "#load genetics dataset\n",
    "with open('./data/gen_data', 'rb') as handle:\n",
    "    gen_train = pickle.load(handle)\n",
    "\n",
    "N = gen_train['N']\n",
    "D = gen_train['D']\n",
    "y = np.int8(gen_train['y'].reshape(N,))\n",
    "x = gen_train['x'].values"
   ]
  },
  {
   "cell_type": "code",
   "execution_count": null,
   "metadata": {},
   "outputs": [],
   "source": [
    "#Calculate correlations between covariates\n",
    "corX = np.corrcoef(np.transpose(x))\n",
    "corind = np.meshgrid(np.arange(0,D),np.arange(0,D))"
   ]
  },
  {
   "cell_type": "code",
   "execution_count": null,
   "metadata": {},
   "outputs": [],
   "source": [
    "#Plot correlations between covariates\n",
    "f = plt.figure(figsize = (4,4))\n",
    "im=plt.imshow(corX,origin = 'lower',cmap = 'coolwarm')\n",
    "cbar = f.colorbar(im)\n",
    "cbar.ax.tick_params(labelsize=16)\n",
    "plt.xlabel('d',fontsize = 18)\n",
    "plt.ylabel('d',fontsize = 18)\n",
    "plt.xticks(fontsize = 16)\n",
    "plt.yticks(fontsize = 16)\n",
    "f.savefig('../../../Writeups/ICML 2019/figures/correlations_small.pdf', bbox_inches='tight')"
   ]
  },
  {
   "cell_type": "code",
   "execution_count": null,
   "metadata": {},
   "outputs": [],
   "source": [
    "#Load beta samples\n",
    "with open('./parameters/par_bb_logreg_gen_T450_a1_ARD_B4000_small', 'rb') as handle:\n",
    "    gen_graph = pickle.load(handle)\n",
    "\n",
    "beta_samps = gen_graph['beta'][:,:,0:50]\n",
    "a_samps = gen_graph['a']\n",
    "b_samps = gen_graph['b']"
   ]
  },
  {
   "cell_type": "code",
   "execution_count": null,
   "metadata": {},
   "outputs": [],
   "source": [
    "#Calculate medians and credible intervals\n",
    "from scipy.stats import mode\n",
    "\n",
    "mean_beta = np.mean(beta_samps,axis = 1)\n",
    "#median_beta = np.median(beta_samps,axis = 1)\n",
    "median_beta = np.percentile(beta_samps,50,axis = 1,interpolation ='linear')\n",
    "\n",
    "\n",
    "lower10 = np.percentile(beta_samps,10,axis = 1,interpolation ='linear')\n",
    "upper10 = np.percentile(beta_samps,90,axis = 1,interpolation ='linear')\n",
    "\n",
    "lower125 = np.percentile(beta_samps,12.5,axis = 1,interpolation ='linear')\n",
    "upper125 = np.percentile(beta_samps,87.5,axis = 1,interpolation ='linear')\n",
    "\n",
    "lower15 = np.percentile(beta_samps,15,axis = 1,interpolation ='linear')\n",
    "upper15 = np.percentile(beta_samps,85,axis = 1,interpolation ='linear')\n",
    "\n",
    "lower25 = np.percentile(beta_samps,2.5,axis = 1,interpolation ='linear')\n",
    "upper25 = np.percentile(beta_samps,97.5,axis = 1,interpolation ='linear')"
   ]
  },
  {
   "cell_type": "code",
   "execution_count": null,
   "metadata": {
    "scrolled": false
   },
   "outputs": [],
   "source": [
    "f=plt.figure(figsize=(12,6))\n",
    "ind = np.array([10,14,24,31,37])-1\n",
    "start= 0\n",
    "end = 370\n",
    "\n",
    "for i in range(D):\n",
    "    if i in ind:\n",
    "        sns.lineplot(np.log(b_samps[start:end]/a_samps[start:end]), (median_beta[start:end,i]),label = r'$\\beta_{{{}}}$'.format(i+1))\n",
    "        plt.fill_between(np.log(b_samps[start:end]/a_samps[start:end]),lower10[start:end,i], upper10[start:end,i], alpha = 0.3)\n",
    "    #else:\n",
    "        #sns.lineplot(np.log(b_samps[start:end]/a_samps[start:end]), median_beta[start:end,i],color = 'grey')\n",
    "plt.xlabel('log(c)',fontsize = 24)\n",
    "plt.ylabel('Posterior median',fontsize = 24)\n",
    "plt.legend( fontsize = 14, loc = 'upper left')\n",
    "plt.xticks(fontsize = 16)\n",
    "plt.yticks(fontsize = 16)"
   ]
  },
  {
   "cell_type": "code",
   "execution_count": null,
   "metadata": {},
   "outputs": [],
   "source": [
    "f=plt.figure(figsize=(12,6))\n",
    "ind = np.array([10,14,24,31,37])-1\n",
    "start= 0\n",
    "end = 400\n",
    "\n",
    "for i in range(D):\n",
    "    if i in ind:\n",
    "        sns.lineplot(np.log(b_samps[start:end]/a_samps[start:end]), (np.abs(median_beta[start:end,i])),label = r'$\\beta_{{{}}}$'.format(i+1))\n",
    "        #plt.fill_between(np.log(b_samps[start:end]/a_samps[start:end]),lower10[start:end,i], upper10[start:end,i], alpha = 0.3)\n",
    "    else:\n",
    "        sns.lineplot(np.log(b_samps[start:end]/a_samps[start:end]), np.abs(median_beta[start:end,i]),color = 'grey')\n",
    "plt.xlabel('log(c)',fontsize = 24)\n",
    "plt.ylabel('Posterior median',fontsize = 24)\n",
    "plt.legend( fontsize = 14, loc = 'upper left')\n",
    "plt.xticks(fontsize = 16)\n",
    "plt.yticks(fontsize = 16)"
   ]
  },
  {
   "cell_type": "code",
   "execution_count": null,
   "metadata": {},
   "outputs": [],
   "source": [
    "#Calculate KDE for beta_108\n",
    "from scipy.stats import gaussian_kde\n",
    "Tstart=80\n",
    "Tend = 340\n",
    "comp = 13\n",
    "xrange = np.arange(-0.1,1,0.001)\n",
    "nind = np.size(xrange)\n",
    "kde = np.zeros((Tend-Tstart,nind))\n",
    "for i in range(Tend-Tstart):\n",
    "    m = gaussian_kde(beta_samps[i+Tstart,:,comp])\n",
    "    kde[i] = m.evaluate(xrange)"
   ]
  },
  {
   "cell_type": "code",
   "execution_count": null,
   "metadata": {
    "scrolled": false
   },
   "outputs": [],
   "source": [
    "#Plot KDE\n",
    "from mpl_toolkits.mplot3d import Axes3D \n",
    "from matplotlib import cm\n",
    "from matplotlib.gridspec import GridSpec\n",
    "gs=GridSpec(1,8)\n",
    "Trange = np.log(b_samps[Tstart:Tend]/a_samps[Tstart:Tend])\n",
    "grid = np.meshgrid(xrange,Trange)\n",
    "fig = plt.figure(figsize = (18,8))\n",
    "ax = fig.add_subplot(gs[0,0:5], projection='3d')\n",
    "\n",
    "\n",
    "surf = ax.plot_surface(grid[0], grid[1], kde, cmap=cm.coolwarm,\n",
    "                       linewidth=0, antialiased=False)\n",
    "ax.set_xlabel(r'$\\beta_{{{}}}$'.format(comp+1),fontsize = '24',labelpad = 19)\n",
    "ax.set_ylabel(r'$\\log(c)$',fontsize = '24',labelpad = 19)\n",
    "ax.set_zlabel('Posterior Density',fontsize = '18',labelpad = 15)\n",
    "ax.xaxis.set_tick_params(labelsize=16)\n",
    "ax.yaxis.set_tick_params(labelsize=16)\n",
    "ax.zaxis.set_tick_params(labelsize=16)\n",
    "ax.view_init(70, 80)\n",
    "#cbar = fig.colorbar(surf)\n",
    "#cbar.ax.tick_params(labelsize=16)\n",
    "plt.gca().invert_xaxis()\n",
    "\n",
    "\n",
    "aspect = 1.1*np.shape(kde)[1]/np.shape(kde)[0]\n",
    "plt.subplot(gs[0,5:8])\n",
    "im=plt.imshow(kde,origin = 'lowerright',cmap = 'coolwarm',aspect = 1/aspect,extent = [-0.1,1,Trange[0],Trange[Tend-Tstart-1]])\n",
    "cbar = fig.colorbar(im)\n",
    "cbar.ax.tick_params(labelsize=16)\n",
    "plt.xlabel(r'$\\beta_{14}$',fontsize = 18)\n",
    "plt.ylabel(r'$\\log(c)$',fontsize = 18, rotation=270,labelpad = 27)\n",
    "plt.xticks(fontsize = 16)\n",
    "plt.yticks(fontsize = 16)"
   ]
  }
 ],
 "metadata": {
  "kernelspec": {
   "display_name": "Python 3",
   "language": "python",
   "name": "python3"
  },
  "language_info": {
   "codemirror_mode": {
    "name": "ipython",
    "version": 3
   },
   "file_extension": ".py",
   "mimetype": "text/x-python",
   "name": "python",
   "nbconvert_exporter": "python",
   "pygments_lexer": "ipython3",
   "version": "3.7.0"
  }
 },
 "nbformat": 4,
 "nbformat_minor": 2
}
