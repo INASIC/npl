{
 "cells": [
  {
   "cell_type": "markdown",
   "metadata": {},
   "source": [
    "# Plot bivariate KDEs for GMM"
   ]
  },
  {
   "cell_type": "code",
   "execution_count": 2,
   "metadata": {},
   "outputs": [],
   "source": [
    "import numpy as np\n",
    "import pickle\n",
    "import matplotlib.pyplot as plt\n",
    "import seaborn as sns\n",
    "import pandas as pd\n",
    "from itertools import chain\n",
    "import matplotlib\n",
    "matplotlib.rcParams['ps.useafm'] = True\n",
    "matplotlib.rcParams['pdf.use14corefonts'] = True\n",
    "matplotlib.rcParams['text.usetex'] = True"
   ]
  },
  {
   "cell_type": "code",
   "execution_count": 3,
   "metadata": {},
   "outputs": [],
   "source": [
    "seed = 104 #104 \n",
    "\n",
    "par_nuts = pd.read_pickle('./parameters/par_nuts_insep_seed{}'.format(seed))\n",
    "par_advi = pd.read_pickle('./parameters/par_advi_insep_seed{}'.format(seed))\n",
    "\n",
    "\n",
    "rep = 10\n",
    "alpha = 10\n",
    "par_bb_rr = pd.read_pickle('./parameters/par_bb_insep_random_repeat_parallel_alpha{}_rep{}_B2000_seed{}'.format(alpha,rep,seed))\n",
    "\n",
    "\n",
    "alpha_MDP= 1000\n",
    "par_bb_mdp= pd.read_pickle('./parameters/par_bb_insep_random_repeat_parallel_alpha{}_rep10_B2000_seed{}_MDP'.format(alpha_MDP,seed))\n",
    "\n",
    "\n",
    "#concatenate samples\n",
    "pi_nuts = par_nuts[['pi[1]','pi[2]','pi[3]']]\n",
    "mu_nuts = par_nuts[['mu[1,1]','mu[2,1]','mu[3,1]']]\n",
    "sigma_nuts = par_nuts[['sigma[1,1]','sigma[2,1]','sigma[3,1]']]\n",
    "\n",
    "pi_advi =par_advi[['pi[1]','pi[2]','pi[3]']]\n",
    "mu_advi =par_advi[['mu[1,1]','mu[2,1]','mu[3,1]']]\n",
    "sigma_advi = par_advi[['sigma[1,1]','sigma[2,1]','sigma[3,1]']]\n",
    "\n",
    "pi_bb_rr =np.array(par_bb_rr['pi'])\n",
    "mu_bb_rr =np.array(par_bb_rr['mu'])[:,:,0]\n",
    "sigma_bb_rr = np.array(par_bb_rr[['sigma']][0])[:,:,0]\n",
    "\n",
    "pi_bb_mdp =np.array(par_bb_mdp['pi'])\n",
    "mu_bb_mdp =np.array(par_bb_mdp['mu'])[:,:,0]\n",
    "sigma_bb_mdp = np.array(par_bb_mdp[['sigma']][0])[:,:,0]\n"
   ]
  },
  {
   "cell_type": "code",
   "execution_count": 4,
   "metadata": {},
   "outputs": [
    {
     "data": {
      "image/png": "[encoded data removed]",
      "text/plain": [
       "<Figure size 1440x288 with 8 Axes>"
      ]
     },
     "metadata": {
      "needs_background": "light"
     },
     "output_type": "display_data"
    }
   ],
   "source": [
    "f = plt.figure(figsize = (20,4))\n",
    "plt.subplot(1,4,1)\n",
    "#0,2 for restart\n",
    "#2,1 for mle\n",
    "sns.kdeplot(np.concatenate((pi_bb_rr[:,0],[0,0,1,1])),np.concatenate((pi_bb_rr[:,2],[0,0,1,1])),cbar = True, shade = True, shade_lowest=True,cmap = 'Blues');\n",
    "plt.xlabel(r'$\\pi_1$',fontsize = 14,labelpad = 0);\n",
    "plt.xlim(0,1)\n",
    "plt.ylim(0,1)\n",
    "plt.ylabel(r'$\\pi_2$',fontsize = 14,labelpad = 0);\n",
    "plt.title(r'DP-NPL, $\\alpha = {}$'.format(alpha),fontsize = 18)\n",
    "\n",
    "plt.subplot(1,4,2)\n",
    "sns.kdeplot(np.concatenate((pi_bb_mdp[:,0],[0,0,1,1])),np.concatenate((pi_bb_mdp[:,2],[0,0,1,1])),cbar = True, shade = True, shade_lowest=True,cmap = 'Blues');\n",
    "plt.xlabel(r'$\\pi_1$',fontsize = 14,labelpad = 0);\n",
    "plt.xlim(0,1)\n",
    "plt.ylim(0,1)\n",
    "plt.ylabel(r'$\\pi_2$',fontsize = 14,labelpad = 0);\n",
    "plt.title(r'MDP-NPL, $\\alpha = {}$'.format(alpha_MDP),fontsize = 18)\n",
    "\n",
    "plt.subplot(1,4,3)\n",
    "sns.kdeplot(np.concatenate((pi_nuts.iloc[:,0],[0,0,1,1])), np.concatenate((pi_nuts.iloc[:,1],[1,0,1,0])), cbar = True, shade = True, shade_lowest=True,cmap = \"Blues\");\n",
    "plt.xlabel(r'$\\pi_1$',fontsize = 14,labelpad = 0);\n",
    "plt.ylabel(r'$\\pi_2$',fontsize = 14,labelpad = 0);\n",
    "plt.xlim(0,1)\n",
    "plt.ylim(0,1)\n",
    "plt.title('NUTS',fontsize = 18)\n",
    "\n",
    "\n",
    "plt.subplot(1,4,4)\n",
    "sns.kdeplot(np.concatenate((pi_advi.iloc[:,0],[0,0,1,1])), np.concatenate((pi_advi.iloc[:,2],[1,0,1,0])), cbar = True, shade = True, shade_lowest=True,cmap = \"Blues\");\n",
    "plt.xlabel(r'$\\pi_1$',fontsize = 14,labelpad = 0);\n",
    "plt.ylabel(r'$\\pi_2$',fontsize = 14,labelpad = 0);\n",
    "plt.xlim(0,1)\n",
    "plt.ylim(0,1)\n",
    "plt.title('ADVI',fontsize = 18)\n",
    "\n",
    "f.savefig('pi_insep_MDP.pdf', bbox_inches='tight')"
   ]
  },
  {
   "cell_type": "code",
   "execution_count": null,
   "metadata": {},
   "outputs": [],
   "source": [
    "f=plt.figure(figsize = (20,4))\n",
    "ticks = [0,0.02,0.04,0.06,0.08,0.10,0.12]\n",
    "plt.subplot(1,4,1)\n",
    "sns.kdeplot(np.concatenate((mu_bb_rr[:,2],[-2,-2,6,6])),np.concatenate((mu_bb_rr[:,1],[-2,6,-2,6])),cbar = True, shade = True, shade_lowest=True,cmap = 'Blues', cbar_kws = {'ticks':ticks});\n",
    "plt.xlabel(r'$\\mu_1$',fontsize = '14', labelpad =0);\n",
    "plt.xlim(-2,6)\n",
    "plt.ylim(-2,6)\n",
    "plt.ylabel(r'$\\mu_2$',fontsize = '14', labelpad = -5);\n",
    "plt.title(r'DP-NPL, $\\alpha = {}$'.format(alpha),fontsize = 18)\n",
    "\n",
    "plt.subplot(1,4,2)\n",
    "sns.kdeplot(np.concatenate((mu_bb_mdp[:,0],[-2,-2,6,6])),np.concatenate((mu_bb_mdp[:,2],[-2,6,-2,6])),cbar = True, shade = True, shade_lowest=True,cmap = 'Blues');\n",
    "plt.xlabel(r'$\\mu_1$',fontsize = '14', labelpad = 0);\n",
    "plt.xlim(-2,6)\n",
    "plt.ylim(-2,6)\n",
    "plt.ylabel(r'$\\mu_2$',fontsize = '14', labelpad = -5);\n",
    "plt.title(r'MDP-NPL, $\\alpha = {}$'.format(alpha_MDP),fontsize = 18)\n",
    "\n",
    "plt.subplot(1,4,3)\n",
    "sns.kdeplot(np.concatenate((mu_nuts.iloc[:,0],[-2,-2,6,6])),np.concatenate((mu_nuts.iloc[:,1],[-2,6,-2,6])),cbar = True, shade = True, shade_lowest=True,cmap = \"Blues\");\n",
    "plt.xlabel(r'$\\mu_1$',fontsize = '14', labelpad = 0);\n",
    "plt.ylabel(r'$\\mu_2$',fontsize = '14', labelpad = -5);\n",
    "plt.xlim(-2,6)\n",
    "plt.ylim(-2,6)\n",
    "plt.title('NUTS',fontsize = 18)\n",
    "\n",
    "\n",
    "plt.subplot(1,4,4)\n",
    "sns.kdeplot(np.concatenate((mu_advi.iloc[:,0],[-2,-2,6,6])),np.concatenate((mu_advi.iloc[:,2],[-2,6,-2,6])),cbar = True, shade = True, shade_lowest=True,cmap = \"Blues\");\n",
    "plt.xlabel(r'$\\mu_1$',fontsize = '14', labelpad = 0)\n",
    "plt.ylabel(r'$\\mu_2$',fontsize = '14', labelpad = -5);\n",
    "plt.xlim(-2,6)\n",
    "plt.ylim(-2,6)\n",
    "plt.title('ADVI',fontsize = 18)\n",
    "\n",
    "f.savefig('mu_insep_MDP.pdf', bbox_inches='tight')"
   ]
  },
  {
   "cell_type": "code",
   "execution_count": null,
   "metadata": {},
   "outputs": [],
   "source": [
    "f=plt.figure(figsize = (20,4))\n",
    "\n",
    "plt.subplot(1,4,1)\n",
    "sns.kdeplot(np.concatenate((sigma_bb_rr[:,2],[0,0,2,2])),np.concatenate((sigma_bb_rr[:,1],[0,2,0,2])),cbar = True, shade = True, shade_lowest=True,cmap = 'Blues');\n",
    "plt.xlabel(r'$\\sigma_1^2$',fontsize = '12',labelpad = 3);\n",
    "plt.xlim(0,2)\n",
    "plt.ylim(0,2)\n",
    "plt.ylabel(r'$\\sigma_2^2$',fontsize = '12',labelpad = 0);\n",
    "plt.title(r'DP-NPL, $\\alpha = {}$'.format(alpha),fontsize = 18)\n",
    "\n",
    "\n",
    "plt.subplot(1,4,2)\n",
    "sns.kdeplot(np.concatenate((sigma_bb_mdp[:,0],[0,0,2,2])),np.concatenate((sigma_bb_mdp[:,2],[0,2,0,2])),cbar = True, shade = True, shade_lowest=True,cmap = 'Blues');\n",
    "plt.xlabel(r'$\\sigma_1^2$',fontsize = '12',labelpad = 3);\n",
    "plt.xlim(0,2)\n",
    "plt.ylim(0,2)\n",
    "plt.ylabel(r'$\\sigma_2^2$',fontsize = '12',labelpad = 0);\n",
    "plt.title(r'MDP-NPL, $\\alpha = {}$'.format(alpha_MDP),fontsize = 18)\n",
    "\n",
    "plt.subplot(1,4,3)\n",
    "sns.kdeplot(np.concatenate((sigma_nuts.iloc[:,0],[0,0,2,2])),np.concatenate((sigma_nuts.iloc[:,1],[0,2,0,2])),cbar = True, shade = True, shade_lowest=True,cmap = \"Blues\");\n",
    "plt.xlabel(r'$\\sigma_1^2$',fontsize = '12',labelpad = 3);\n",
    "plt.ylabel(r'$\\sigma_2^2$',fontsize = '12',labelpad = 0);\n",
    "plt.xlim(0,2)\n",
    "plt.ylim(0,2)\n",
    "plt.title('NUTS',fontsize = 18)\n",
    "\n",
    "\n",
    "plt.subplot(1,4,4)\n",
    "sns.kdeplot(np.concatenate((sigma_advi.iloc[:,0],[0,0,6,6])),np.concatenate((sigma_advi.iloc[:,2],[0,6,0,6])),cbar = True, shade = True, shade_lowest=True,cmap = \"Blues\");\n",
    "plt.xlabel(r'$\\sigma_1^2$',fontsize = '12',labelpad = 3)\n",
    "plt.ylabel(r'$\\sigma_2^2$',fontsize = '12',labelpad = 0);\n",
    "plt.xlim(0,2)\n",
    "plt.ylim(0,2)\n",
    "plt.title('ADVI',fontsize = 18)\n",
    "\n",
    "f.savefig('sigma_insep_MDP.pdf', bbox_inches='tight')"
   ]
  }
 ],
 "metadata": {
  "kernelspec": {
   "display_name": "Python 3",
   "language": "python",
   "name": "python3"
  },
  "language_info": {
   "codemirror_mode": {
    "name": "ipython",
    "version": 3
   },
   "file_extension": ".py",
   "mimetype": "text/x-python",
   "name": "python",
   "nbconvert_exporter": "python",
   "pygments_lexer": "ipython3",
   "version": "3.7.0"
  }
 },
 "nbformat": 4,
 "nbformat_minor": 2
}
